{
 "cells": [
  {
   "cell_type": "code",
   "execution_count": 2,
   "metadata": {},
   "outputs": [],
   "source": [
    "import os,shutil"
   ]
  },
  {
   "cell_type": "code",
   "execution_count": 3,
   "metadata": {},
   "outputs": [],
   "source": [
    "\n",
    "audio = [\".mp3\",\".wma\",\".aac\"]\n",
    "video = [\".mp4\",\".wmv\",\".avi\"]\n",
    "docs = [\".docx\",\".pdf\"]\n",
    "software = [\".exe\",\".apk\"]\n",
    "zips = [\".rar\",\".zip\"]\n",
    "path = \"C:\\\\Users\\\\gagan\\\\Desktop\\\\testing\"\n",
    "folders = os.listdir(path)\n",
    "\n",
    "os.mkdir(\"C:\\\\Users\\\\gagan\\\\Desktop\\\\testing\\\\audio\")\n",
    "os.mkdir(\"C:\\\\Users\\\\gagan\\\\Desktop\\\\testing\\\\video\")\n",
    "os.mkdir(\"C:\\\\Users\\\\gagan\\\\Desktop\\\\testing\\\\docs\")\n",
    "os.mkdir(\"C:\\\\Users\\\\gagan\\\\Desktop\\\\testing\\\\software\")\n",
    "os.mkdir(\"C:\\\\Users\\\\gagan\\\\Desktop\\\\testing\\\\zips\")\n",
    "os.mkdir(\"C:\\\\Users\\\\gagan\\\\Desktop\\\\testing\\\\unknown\")"
   ]
  },
  {
   "cell_type": "code",
   "execution_count": 4,
   "metadata": {},
   "outputs": [
    {
     "data": {
      "text/plain": [
       "['cognizant_gagandeep_resume.pdf']"
      ]
     },
     "execution_count": 4,
     "metadata": {},
     "output_type": "execute_result"
    }
   ],
   "source": [
    "folders"
   ]
  },
  {
   "cell_type": "code",
   "execution_count": 5,
   "metadata": {},
   "outputs": [],
   "source": [
    "for folder in folders:\n",
    "    extension = os.path.splitext(folder)[1]\n",
    "    if extension == \"\":\n",
    "        print(\"it is a folder\")\n",
    "        files = os.listdir(\"C:\\\\Users\\\\gagan\\\\Desktop\\\\testing\\\\\"+folder)\n",
    "        for file in files:\n",
    "            ext = os.path.splitext(file)[1]\n",
    "            newpath = path +\"\\\\\"+folder+\"\\\\\"\n",
    "            if ext in audio:\n",
    "                shutil.move(newpath + file,\"C:\\\\Users\\\\gagan\\\\Desktop\\\\testing\\\\audio\")\n",
    "            elif ext in video:\n",
    "                shutil.move(newpath + file,\"C:\\\\Users\\\\gagan\\\\Desktop\\\\testing\\\\video\")\n",
    "            elif ext in docs:\n",
    "                shutil.move(newpath + file,\"C:\\\\Users\\\\gagan\\\\Desktop\\\\testing\\\\docs\")\n",
    "            elif ext in software:\n",
    "                shutil.move(newpath + file,\"C:\\\\Users\\\\gagan\\\\Desktop\\\\testing\\\\software\")\n",
    "            elif ext in zips:\n",
    "                shutil.move(newpath + file,\"C:\\\\Users\\\\gagan\\\\Desktop\\\\testing\\\\zips\")\n",
    "            else:\n",
    "                shutil.move(newpath + file,\"C:\\\\Users\\\\gagan\\\\Desktop\\\\testing\\\\unknown\")\n",
    "    elif extension in audio:\n",
    "         shutil.move(path+\"\\\\\"+folder,\"C:\\\\Users\\\\gagan\\\\Desktop\\\\testing\\\\audio\")\n",
    "    elif extension in video:\n",
    "         shutil.move(path+\"\\\\\"+folder,\"C:\\\\Users\\\\gagan\\\\Desktop\\\\testing\\\\video\")\n",
    "    elif extension in docs:\n",
    "         shutil.move(path+\"\\\\\"+folder,\"C:\\\\Users\\\\gagan\\\\Desktop\\\\testing\\\\docs\")\n",
    "    elif extension in software:\n",
    "         shutil.move(path+\"\\\\\"+folder,\"C:\\\\Users\\\\gagan\\\\Desktop\\\\testing\\\\software\")\n",
    "    elif extension in zips:\n",
    "         shutil.move(path+\"\\\\\"+folder,\"C:\\\\Users\\\\gagan\\\\Desktop\\\\testing\\\\zips\")\n",
    "    else:\n",
    "         shutil.move(path+\"\\\\\"+folder,\"C:\\\\Users\\\\gagan\\\\Desktop\\\\testing\\\\unknown\")"
   ]
  },
  {
   "cell_type": "code",
   "execution_count": 34,
   "metadata": {},
   "outputs": [],
   "source": []
  },
  {
   "cell_type": "code",
   "execution_count": null,
   "metadata": {},
   "outputs": [],
   "source": []
  },
  {
   "cell_type": "code",
   "execution_count": null,
   "metadata": {},
   "outputs": [],
   "source": []
  },
  {
   "cell_type": "code",
   "execution_count": null,
   "metadata": {},
   "outputs": [],
   "source": []
  }
 ],
 "metadata": {
  "kernelspec": {
   "display_name": "Python 3",
   "language": "python",
   "name": "python3"
  },
  "language_info": {
   "codemirror_mode": {
    "name": "ipython",
    "version": 3
   },
   "file_extension": ".py",
   "mimetype": "text/x-python",
   "name": "python",
   "nbconvert_exporter": "python",
   "pygments_lexer": "ipython3",
   "version": "3.7.0"
  }
 },
 "nbformat": 4,
 "nbformat_minor": 2
}
